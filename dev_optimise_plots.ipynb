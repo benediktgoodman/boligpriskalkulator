{
 "cells": [
  {
   "cell_type": "code",
   "execution_count": 9,
   "metadata": {},
   "outputs": [],
   "source": [
    "from functions.plot_funcs import (\n",
    "    create_cost_breakdown_sunburst,\n",
    "    create_interest_rate_sensitivity_chart,\n",
    "    create_amortization_chart,\n",
    "    create_amortization_chart_optimized\n",
    ")\n",
    "from functions.calc_funcs import (\n",
    "    monthly_price_calculator_scenarios,\n",
    "    calculate_amortization_schedule\n",
    ")\n",
    "\n",
    "import numpy as np\n",
    "import plotly.graph_objects as go\n",
    "import plotly.express as px\n"
   ]
  },
  {
   "cell_type": "code",
   "execution_count": 10,
   "metadata": {},
   "outputs": [],
   "source": [
    "# Use monthly_price_calculator_scenarios to generate realistic data\n",
    "sunburst_data = monthly_price_calculator_scenarios(\n",
    "    houseprice_range=[5000000],\n",
    "    interest_rate_range=[0.06],\n",
    "    fixed_cost_house_range=[5000],\n",
    "    kwh_usage_range=[500],\n",
    "    kwh_price_range=[1.5],\n",
    "    markup_nok_range=[0.1],\n",
    "    fixed_cost_electricity_range=[39],\n",
    "    ammortisation_periods_range=[360],\n",
    "    person_a_fixed_costs_range=[10000],\n",
    "    person_b_fixed_costs_range=[10000],\n",
    "    transaction_costs_range=[200000],\n",
    "    ek_range=[1500000],\n",
    "    ownership_fraq_range=[0.5]\n",
    ")\n",
    "\n",
    "# Data for interest rate sensitivity chart\n",
    "loan_amount = sunburst_data['house_price'].copy() - 1500000  # Assuming ek is 1500000\n",
    "amortization_periods = 360\n",
    "interest_rate_range = sunburst_data['interest_rate'].copy().unique()"
   ]
  },
  {
   "cell_type": "code",
   "execution_count": 11,
   "metadata": {},
   "outputs": [],
   "source": [
    "df = calculate_amortization_schedule(loan_amount, interest_rate_range, amortization_periods)"
   ]
  },
  {
   "cell_type": "code",
   "execution_count": 12,
   "metadata": {},
   "outputs": [
    {
     "name": "stdout",
     "output_type": "stream",
     "text": [
      "16.2 ms ± 96.2 μs per loop (mean ± std. dev. of 7 runs, 100 loops each)\n"
     ]
    }
   ],
   "source": [
    "%%timeit\n",
    "create_amortization_chart(df, 'test')"
   ]
  },
  {
   "cell_type": "code",
   "execution_count": 14,
   "metadata": {},
   "outputs": [
    {
     "name": "stdout",
     "output_type": "stream",
     "text": [
      "16.1 ms ± 129 μs per loop (mean ± std. dev. of 7 runs, 100 loops each)\n"
     ]
    }
   ],
   "source": [
    "%%timeit\n",
    "create_amortization_chart_optimized(df, 'test')"
   ]
  },
  {
   "cell_type": "code",
   "execution_count": 30,
   "metadata": {},
   "outputs": [],
   "source": [
    "def loan_calc_v1(\n",
    "    loan: int | float, rate: float | np.ndarray, months: int\n",
    ") -> int | np.ndarray:\n",
    "    \"\"\"\n",
    "    Calculate the monthly payment for a given loan amount with a given interest rate over a specified number of months.\n",
    "\n",
    "    Parameters\n",
    "    ----------\n",
    "    loan : float\n",
    "        The loan amount.\n",
    "    rate : float\n",
    "        The annual interest rate.\n",
    "    months : int\n",
    "        The number of months over which the loan will be amortized.\n",
    "\n",
    "    Returns\n",
    "    -------\n",
    "    float or np.ndarray\n",
    "        The monthly payment.\n",
    "\n",
    "    Examples\n",
    "    --------\n",
    "    >>> loan_calc(100000, 0.035, 360)\n",
    "    448.64\n",
    "    \"\"\"\n",
    "    return (rate / 12) * (1 / (1 - (1 + rate / 12) ** (-months))) * loan"
   ]
  },
  {
   "cell_type": "code",
   "execution_count": 33,
   "metadata": {},
   "outputs": [],
   "source": [
    "def loan_calc_v2(\n",
    "    loan: np.ndarray | float, rate: np.ndarray | float, months: int\n",
    ") -> np.ndarray | float:\n",
    "    \"\"\"\n",
    "    Calculate the monthly payment for given loan amounts with given interest rates over a specified number of months.\n",
    "    Supports broadcasting between loan amounts and interest rates.\n",
    "\n",
    "    Parameters\n",
    "    ----------\n",
    "    loan : np.ndarray or float\n",
    "        The loan amount(s).\n",
    "    rate : np.ndarray or float\n",
    "        The annual interest rate(s).\n",
    "    months : int\n",
    "        The number of months over which the loan(s) will be amortized.\n",
    "\n",
    "    Returns\n",
    "    -------\n",
    "    np.ndarray or float\n",
    "        The monthly payment(s) for each combination of loan and rate.\n",
    "\n",
    "    Examples\n",
    "    --------\n",
    "    >>> loan_calc(100000, 0.035, 360)\n",
    "    448.64\n",
    "    >>> loan_calc(np.array([100000, 200000]), np.array([0.035, 0.04]), 360)\n",
    "    array([[448.64, 477.42],\n",
    "           [897.28, 954.83]])\n",
    "    >>> loan_calc(np.array([100000, 200000, 300000]), 0.035, 360)\n",
    "    array([448.64, 897.28, 1345.92])\n",
    "    \"\"\"\n",
    "    loan = np.atleast_1d(loan)[:, np.newaxis]\n",
    "    rate = np.atleast_1d(rate)[np.newaxis, :]\n",
    "    \n",
    "    monthly_rate = rate / 12\n",
    "    numerator = monthly_rate * (1 + monthly_rate) ** months\n",
    "    denominator = (1 + monthly_rate) ** months - 1\n",
    "    \n",
    "    result = (numerator / denominator) * loan\n",
    "    \n",
    "    # If both inputs were scalars, return a scalar\n",
    "    if result.size == 1:\n",
    "        return result.item()\n",
    "    \n",
    "    # If one input was scalar and the other 1D, return 1D array\n",
    "    if result.shape[0] == 1 or result.shape[1] == 1:\n",
    "        return result.ravel()\n",
    "    \n",
    "    return result"
   ]
  },
  {
   "cell_type": "code",
   "execution_count": 37,
   "metadata": {},
   "outputs": [],
   "source": [
    "loan_vec = np.arange(3000000, 7000000, step=25000)\n",
    "interest_rates = np.arange(0.01, 0.125, 0.0025)\n",
    "loan = 50000000\n"
   ]
  },
  {
   "cell_type": "code",
   "execution_count": 40,
   "metadata": {},
   "outputs": [],
   "source": [
    "loans_v1 = np.array([loan_calc_v1(loan, rate, 360) for rate in interest_rates])\n",
    "loans_v2 = loan_calc_v2(loan, interest_rates, 360)"
   ]
  },
  {
   "cell_type": "code",
   "execution_count": 44,
   "metadata": {},
   "outputs": [
    {
     "data": {
      "text/plain": [
       "array([ True,  True,  True,  True,  True,  True,  True,  True,  True,\n",
       "        True,  True,  True,  True,  True,  True,  True,  True,  True,\n",
       "        True,  True,  True,  True,  True,  True,  True,  True,  True,\n",
       "        True,  True,  True,  True,  True,  True,  True,  True,  True,\n",
       "        True,  True,  True,  True,  True,  True,  True,  True,  True,\n",
       "        True])"
      ]
     },
     "execution_count": 44,
     "metadata": {},
     "output_type": "execute_result"
    }
   ],
   "source": [
    "np.isclose(loans_v1, loans_v2,rtol=0.01)"
   ]
  },
  {
   "cell_type": "code",
   "execution_count": 45,
   "metadata": {},
   "outputs": [
    {
     "name": "stdout",
     "output_type": "stream",
     "text": [
      "23.6 μs ± 84 ns per loop (mean ± std. dev. of 7 runs, 10,000 loops each)\n"
     ]
    }
   ],
   "source": [
    "%%timeit\n",
    "[loan_calc_v1(loan, rate, 360) for rate in interest_rates]"
   ]
  },
  {
   "cell_type": "code",
   "execution_count": 46,
   "metadata": {},
   "outputs": [
    {
     "name": "stdout",
     "output_type": "stream",
     "text": [
      "11.3 μs ± 46.7 ns per loop (mean ± std. dev. of 7 runs, 100,000 loops each)\n"
     ]
    }
   ],
   "source": [
    "%%timeit\n",
    "loan_calc_v2(loan, interest_rates, 360)"
   ]
  },
  {
   "cell_type": "code",
   "execution_count": null,
   "metadata": {},
   "outputs": [],
   "source": []
  }
 ],
 "metadata": {
  "kernelspec": {
   "display_name": "dev",
   "language": "python",
   "name": "python3"
  },
  "language_info": {
   "codemirror_mode": {
    "name": "ipython",
    "version": 3
   },
   "file_extension": ".py",
   "mimetype": "text/x-python",
   "name": "python",
   "nbconvert_exporter": "python",
   "pygments_lexer": "ipython3",
   "version": "3.11.9"
  }
 },
 "nbformat": 4,
 "nbformat_minor": 2
}
